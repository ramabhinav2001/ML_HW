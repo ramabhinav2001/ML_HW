{
  "nbformat": 4,
  "nbformat_minor": 0,
  "metadata": {
    "colab": {
      "provenance": [],
      "authorship_tag": "ABX9TyPm3C6n78ilfRcMMIIi4prD",
      "include_colab_link": true
    },
    "kernelspec": {
      "name": "python3",
      "display_name": "Python 3"
    },
    "language_info": {
      "name": "python"
    }
  },
  "cells": [
    {
      "cell_type": "markdown",
      "metadata": {
        "id": "view-in-github",
        "colab_type": "text"
      },
      "source": [
        "<a href=\"https://colab.research.google.com/github/ramabhinav2001/ML_HW/blob/main/Non_LinearRegression.ipynb\" target=\"_parent\"><img src=\"https://colab.research.google.com/assets/colab-badge.svg\" alt=\"Open In Colab\"/></a>"
      ]
    },
    {
      "cell_type": "code",
      "execution_count": 1,
      "metadata": {
        "id": "Kg2aS9fU2xA2"
      },
      "outputs": [],
      "source": [
        "import numpy as np\n",
        "import pandas as pd\n",
        "import matplotlib.pyplot as plt"
      ]
    },
    {
      "cell_type": "code",
      "source": [
        "# Read and load data from given non-linear data values\n",
        "data = pd.read_csv(\"/content/HW2_nonlinear_data.csv\")\n",
        "X = data['X'].values\n",
        "Y = data['Y'].values\n",
        "for i in range(len(X)):\n",
        "  print(\"[\",X[i],\",\",Y[i],\"]\")"
      ],
      "metadata": {
        "colab": {
          "base_uri": "https://localhost:8080/"
        },
        "id": "bodyuJTs3C0n",
        "outputId": "f5952bf5-8651-4a06-9864-84c15ec60963"
      },
      "execution_count": 2,
      "outputs": [
        {
          "output_type": "stream",
          "name": "stdout",
          "text": [
            "[ -0.812377079 , 146.013887 ]\n",
            "[ -6.935875516 , -2050.854715 ]\n",
            "[ 3.486073171 , 561.9361142 ]\n",
            "[ 0.563652096 , 54.22054203 ]\n",
            "[ 5.511145475 , 2207.389506 ]\n",
            "[ -3.661714207 , -167.9921726 ]\n",
            "[ 0.814774561 , 1321.647594 ]\n",
            "[ -1.867811554 , 595.5877285 ]\n",
            "[ -2.23860183 , 295.797271 ]\n",
            "[ 5.313622077 , 3203.24463 ]\n",
            "[ -7.490350342 , -2548.309366 ]\n",
            "[ -3.87502684 , 377.2841696 ]\n",
            "[ -7.812672338 , -2878.227299 ]\n",
            "[ 1.504085185 , 335.9019167 ]\n",
            "[ 1.448817373 , 824.7716223 ]\n",
            "[ -9.663232928 , -8650.619607 ]\n",
            "[ -2.34185847 , 1284.513415 ]\n",
            "[ 2.246828983 , 889.13779 ]\n",
            "[ 9.037468536 , 9672.819784 ]\n",
            "[ -4.336340361 , 659.9442295 ]\n",
            "[ -1.533264238 , 916.7010599 ]\n",
            "[ -3.828528579 , 141.6207508 ]\n",
            "[ 7.791615141 , 7016.053992 ]\n",
            "[ -7.843678471 , -3450.984216 ]\n",
            "[ -9.271338452 , -8154.750228 ]\n",
            "[ -1.299019334 , 1361.216514 ]\n",
            "[ 6.854165192 , 4158.17035 ]\n",
            "[ 4.347373712 , 2210.844534 ]\n",
            "[ -6.766787949 , -1631.337797 ]\n",
            "[ 1.355870435 , 1580.866738 ]\n",
            "[ -3.629536687 , 330.1457137 ]\n",
            "[ -3.370325888 , 1331.124382 ]\n",
            "[ 4.712532849 , 1534.443749 ]\n",
            "[ -0.985198451 , 280.1281969 ]\n",
            "[ 8.185987408 , 7746.188 ]\n",
            "[ 5.049759243 , 3307.58695 ]\n",
            "[ 8.588628818 , 7800.703668 ]\n",
            "[ -3.588911968 , 723.1318765 ]\n",
            "[ 9.126242927 , 9867.094475 ]\n",
            "[ 7.95763786 , 7215.220774 ]\n",
            "[ 5.270648401 , 3135.393061 ]\n",
            "[ -1.426776347 , 251.1338281 ]\n",
            "[ 7.116332857 , 4186.973393 ]\n",
            "[ -4.35051379 , -320.4543979 ]\n",
            "[ -6.36540615 , -1330.198121 ]\n",
            "[ 8.215351847 , 6540.874559 ]\n",
            "[ 5.603303811 , 3275.477893 ]\n",
            "[ -6.830976477 , -3211.938802 ]\n",
            "[ 0.701105851 , 526.2188144 ]\n",
            "[ 2.087556613 , 867.0008033 ]\n",
            "[ -8.707084178 , -5437.649019 ]\n",
            "[ 5.632073673 , 3419.517406 ]\n",
            "[ -8.913774912 , -6612.573174 ]\n",
            "[ 1.142082804 , 401.9692621 ]\n",
            "[ 8.960776898 , 8660.78925 ]\n",
            "[ 1.610769971 , 383.2681347 ]\n",
            "[ 9.566124375 , 10266.22814 ]\n",
            "[ -6.040081689 , -1224.964089 ]\n",
            "[ -0.188542436 , 1559.564852 ]\n",
            "[ -0.255233189 , 320.6478518 ]\n",
            "[ -5.057803347 , -1092.915191 ]\n",
            "[ 8.121026085 , 6260.781729 ]\n",
            "[ -1.615013712 , 1481.591283 ]\n",
            "[ -5.185336877 , 361.1035023 ]\n",
            "[ 0.817575282 , 1108.300826 ]\n",
            "[ 8.328702333 , 7327.985135 ]\n",
            "[ -1.60107859 , 122.2052443 ]\n",
            "[ -8.459549999 , -5379.626987 ]\n",
            "[ -5.419533007 , -811.07606 ]\n",
            "[ 5.533749943 , 2876.814572 ]\n",
            "[ 2.001250989 , 1517.849206 ]\n",
            "[ 8.49769063 , 7084.839139 ]\n",
            "[ 4.937790119 , 2884.254158 ]\n",
            "[ -5.296835689 , -1191.958571 ]\n",
            "[ 9.753386006 , 11881.80471 ]\n",
            "[ -8.819011953 , -6514.85877 ]\n",
            "[ 6.506282751 , 4884.087947 ]\n",
            "[ 2.074956802 , 1330.272467 ]\n",
            "[ -1.420798727 , 43.66599803 ]\n",
            "[ -3.123980273 , 872.3683127 ]\n",
            "[ -3.994432613 , 531.7209927 ]\n",
            "[ 1.198906727 , 1040.366344 ]\n",
            "[ 8.000009999 , 7231.537418 ]\n",
            "[ 6.610770551 , 4052.179829 ]\n",
            "[ 8.879609858 , 8428.516618 ]\n",
            "[ 5.818279229 , 3277.293544 ]\n",
            "[ 9.037352575 , 9318.342324 ]\n",
            "[ -7.632558487 , -3382.995209 ]\n",
            "[ 1.903987608 , 368.8948046 ]\n",
            "[ -3.677910752 , 504.0238146 ]\n",
            "[ 6.357836871 , 4287.303038 ]\n",
            "[ -6.384594924 , -1530.033324 ]\n",
            "[ 0.623106451 , 879.8396744 ]\n",
            "[ -2.925157775 , 405.7477718 ]\n",
            "[ -1.166927022 , 414.6165449 ]\n",
            "[ -5.758898496 , -468.2410118 ]\n",
            "[ -0.927994561 , 368.8840525 ]\n",
            "[ -5.536775067 , -978.0795501 ]\n",
            "[ -2.210791402 , 1390.267279 ]\n",
            "[ 5.051275071 , 2853.676231 ]\n"
          ]
        }
      ]
    },
    {
      "cell_type": "code",
      "source": [
        "# Defining cubic function\n",
        "def cubic_function(X, a, b, c, d):\n",
        "    return a * X**3 + b * X**2 + c * X + d\n",
        "# Define mean square error(MSE) loss function\n",
        "def mse_loss(Y_true, Y_pred):\n",
        "    return np.mean((Y_true - Y_pred)**2)\n",
        "# Initializing parameters\n",
        "a, b, c, d = np.random.rand(4)  # Random initialization\n",
        "L= 1e-6\n",
        "epochs = 10000\n",
        "# Performing gradient descent to optimize the parameters\n",
        "for epoch in range(epochs):\n",
        "    # Calculate predictions\n",
        "    y_pred = cubic_function(X, a, b, c, d)\n",
        "\n",
        "    # Calculate the gradient of the loss with respect to each parameter\n",
        "    grad_a = -2 * np.mean((Y - y_pred) * X**3)\n",
        "    grad_b = -2 * np.mean((Y - y_pred) * X**2)\n",
        "    grad_c = -2 * np.mean((Y - y_pred) * X)\n",
        "    grad_d = -2 * np.mean(Y - y_pred)\n",
        "\n",
        "    # Update the parameters\n",
        "    a -= L * grad_a\n",
        "    b -= L * grad_b\n",
        "    c -= L * grad_c\n",
        "    d -= L * grad_d\n",
        "\n",
        "    # Calculate the current loss\n",
        "    curr_lost = mse_loss(Y, y_pred)\n",
        "\n",
        "    if epoch % 1000 == 0:\n",
        "        print(f\"Epoch {epoch}: Loss = {curr_lost:.6f}\")\n",
        "\n",
        "print(\"Training completed.\")\n",
        "\n",
        "# Print the optimized parameters\n",
        "print(f\"Optimized parameters: a = {a}, b = {b}, c = {c}, d = {d}\")\n",
        "\n",
        "# Plot the data and the fitted cubic function using given cubic equation\n",
        "plt.scatter(X, Y, label=\"Data\")\n",
        "y_pred = cubic_function(X, a, b, c, d)\n",
        "plt.scatter(X, y_pred, color='red', label=\"Cubic Function\")\n",
        "plt.xlabel(\"X\")\n",
        "plt.ylabel(\"Y\")\n",
        "plt.legend()\n",
        "plt.title(\"Non-linear Regression\")\n",
        "plt.show()\n",
        "\n"
      ],
      "metadata": {
        "id": "twUxVOWSQ_6M",
        "colab": {
          "base_uri": "https://localhost:8080/",
          "height": 700
        },
        "outputId": "f79386d9-c25f-43c5-8c95-fc5150200008"
      },
      "execution_count": 3,
      "outputs": [
        {
          "output_type": "stream",
          "name": "stdout",
          "text": [
            "Epoch 0: Loss = 14466433.872348\n",
            "Epoch 1000: Loss = 592988.727323\n",
            "Epoch 2000: Loss = 591653.613639\n",
            "Epoch 3000: Loss = 591030.461011\n",
            "Epoch 4000: Loss = 590409.931419\n",
            "Epoch 5000: Loss = 589791.326282\n",
            "Epoch 6000: Loss = 589174.626268\n",
            "Epoch 7000: Loss = 588559.813015\n",
            "Epoch 8000: Loss = 587946.868479\n",
            "Epoch 9000: Loss = 587335.774923\n",
            "Training completed.\n",
            "Optimized parameters: a = 10.645717803905939, b = 20.95864417252761, c = -1.1611962863888279, d = 8.81536728413736\n"
          ]
        },
        {
          "output_type": "display_data",
          "data": {
            "text/plain": [
              "<Figure size 640x480 with 1 Axes>"
            ],
            "image/png": "[encoded data removed]"
          },
          "metadata": {}
        }
      ]
    }
  ]
}