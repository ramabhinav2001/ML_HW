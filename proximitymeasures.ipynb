{
  "nbformat": 4,
  "nbformat_minor": 0,
  "metadata": {
    "colab": {
      "provenance": [],
      "authorship_tag": "ABX9TyNd7Ryj8eb9632Frwan6Cl7",
      "include_colab_link": true
    },
    "kernelspec": {
      "name": "python3",
      "display_name": "Python 3"
    },
    "language_info": {
      "name": "python"
    }
  },
  "cells": [
    {
      "cell_type": "markdown",
      "metadata": {
        "id": "view-in-github",
        "colab_type": "text"
      },
      "source": [
        "<a href=\"https://colab.research.google.com/github/ramabhinav2001/ML_HW/blob/main/proximitymeasures.ipynb\" target=\"_parent\"><img src=\"https://colab.research.google.com/assets/colab-badge.svg\" alt=\"Open In Colab\"/></a>"
      ]
    },
    {
      "cell_type": "code",
      "source": [
        "# 2.)Finding correlation, cosine similarity and euclidean distance using numpy"
      ],
      "metadata": {
        "id": "-GtfY508d8v_"
      },
      "execution_count": null,
      "outputs": []
    },
    {
      "cell_type": "code",
      "source": [
        "import numpy as np"
      ],
      "metadata": {
        "id": "EDczTPUP3haF"
      },
      "execution_count": 1,
      "outputs": []
    },
    {
      "cell_type": "code",
      "execution_count": 76,
      "metadata": {
        "colab": {
          "base_uri": "https://localhost:8080/"
        },
        "id": "VWhJapS-1waC",
        "outputId": "d20b9013-46b8-4209-c7bc-3d32bd20973f"
      },
      "outputs": [
        {
          "output_type": "stream",
          "name": "stdout",
          "text": [
            "Range of values: 50\n",
            "Number of points: 5\n",
            "(X,Y):[ -24,-22 ] [ 29,0 ] [ 0,45 ] [ 17,-50 ] [ 27,33 ] \n",
            "\n",
            "Correlation between points (X,Y):  0.14786048267195626\n",
            "Cosine similarity between points (X,Y):  0.14766211124965242\n",
            "Euclidean distance between points (X,Y):  85.99418584997477\n"
          ]
        }
      ],
      "source": [
        "r=int(input(\"Range of values: \"))\n",
        "n=int(input(\"Number of points: \"))\n",
        "x = np.random.randint(-r,r,n)\n",
        "y = np.random.randint(-r,r,n)\n",
        "print(\"(X,Y):\", end=\"\")\n",
        "for i in range(0,n):\n",
        "  print(\"[\",x[i],end=',')\n",
        "  print(y[i],\"]\",end=' ')\n",
        "print(\"\\n\")\n",
        "#Calculation of Correlation coefficient using numpy\n",
        "CORR_XY=np.corrcoef(x,y)[0,1]\n",
        "print(\"Correlation between points (X,Y): \",CORR_XY)\n",
        "#Calculation for Cosine similarity using numpy\n",
        "c=np.dot(x,y) # Vector Multiplication\n",
        "a=np.linalg.norm(x) # Magnitude of Vector x\n",
        "b=np.linalg.norm(y) # Magnitude of Vector y\n",
        "CS=c/(a*b)\n",
        "print(\"Cosine similarity between points (X,Y): \",CS)\n",
        "#Calculation of Euclidean distance using numpy\n",
        "ED_XY=np.linalg.norm(x-y)\n",
        "print(\"Euclidean distance between points (X,Y): \",ED_XY)"
      ]
    },
    {
      "cell_type": "code",
      "source": [
        "# 3.) Finding correlation, cosine similarity and euclidean distance using scipy and pandas\n",
        "# i.)Using scipy"
      ],
      "metadata": {
        "id": "qNzzIS8H60U5"
      },
      "execution_count": null,
      "outputs": []
    },
    {
      "cell_type": "code",
      "source": [
        "import numpy as np\n",
        "from scipy.spatial.distance import correlation, cosine, euclidean"
      ],
      "metadata": {
        "id": "D1WhywOrd7d5"
      },
      "execution_count": 78,
      "outputs": []
    },
    {
      "cell_type": "code",
      "source": [
        "r=int(input(\"Range of values: \"))\n",
        "n=int(input(\"Number of points: \"))\n",
        "x = np.random.randint(-r,r,n)\n",
        "y = np.random.randint(-r,r,n)\n",
        "print(\"(X,Y):\", end=\"\")\n",
        "for i in range(0,n):\n",
        "  print(\"[\",x[i],end=',')\n",
        "  print(y[i],\"]\",end=' ')\n",
        "print(\"\\n\")\n",
        "#Calculation for correlation coefficient using scipy\n",
        "corr_xy= 1-correlation(x,y)\n",
        "print(\"Correlation between points (X,Y): \",corr_xy)\n",
        "#Calculation for Cosine similarity using scipy\n",
        "cs= 1-cosine(x,y)\n",
        "print(\"Cosine similarity between points (X,Y): \",cs)\n",
        "#Calculation of Euclidean distance using scipy\n",
        "ed_xy= euclidean(x,y)\n",
        "print(\"Euclidean distance between points (X,Y): \",ed_xy)"
      ],
      "metadata": {
        "colab": {
          "base_uri": "https://localhost:8080/"
        },
        "id": "20zeP4J_gIko",
        "outputId": "1a3ae5df-ed22-4979-88a8-1528f9fa8b4d"
      },
      "execution_count": 81,
      "outputs": [
        {
          "output_type": "stream",
          "name": "stdout",
          "text": [
            "Range of values: 50\n",
            "Number of points: 5\n",
            "(X,Y):[ -43,20 ] [ -27,7 ] [ -10,-33 ] [ -29,-16 ] [ 32,0 ] \n",
            "\n",
            "Correlation between points (X,Y):  -0.24876259266677092\n",
            "Cosine similarity between points (X,Y):  -0.08932182598559613\n",
            "Euclidean distance between points (X,Y):  82.74660113865706\n"
          ]
        }
      ]
    },
    {
      "cell_type": "code",
      "source": [
        "# ii.)Using pandas"
      ],
      "metadata": {
        "id": "RuE3gxDboe0T"
      },
      "execution_count": null,
      "outputs": []
    },
    {
      "cell_type": "code",
      "source": [
        "import numpy as np\n",
        "import pandas as pd"
      ],
      "metadata": {
        "id": "7GDquu1rolDz"
      },
      "execution_count": 82,
      "outputs": []
    },
    {
      "cell_type": "code",
      "source": [
        "r = int(input(\"Range of values: \"))\n",
        "n = int(input(\"Number of points: \"))\n",
        "# Generate random integer values\n",
        "x = np.random.randint(-r, r, n)\n",
        "y = np.random.randint(-r, r, n)\n",
        "print(\"(X,Y):\", end=\"\")\n",
        "for i in range(0,n):\n",
        "  print(\"[\",x[i],end=',')\n",
        "  print(y[i],\"]\",end=' ')\n",
        "print(\"\\n\")\n",
        "# Create a Pandas DataFrame\n",
        "df = pd.DataFrame({'X': x, 'Y': y})\n",
        "print(df)\n",
        "corr_xy=df['X'].corr(df['Y'])\n",
        "print(\"Correlation between points (X,Y): \",corr_xy)"
      ],
      "metadata": {
        "colab": {
          "base_uri": "https://localhost:8080/"
        },
        "id": "sHY0yzGspYC0",
        "outputId": "9e068a2b-1672-41a4-93d0-faaccef8a264"
      },
      "execution_count": 87,
      "outputs": [
        {
          "output_type": "stream",
          "name": "stdout",
          "text": [
            "Range of values: 50\n",
            "Number of points: 5\n",
            "(X,Y):[ 14,39 ] [ -1,-31 ] [ -4,31 ] [ -4,-1 ] [ 18,19 ] \n",
            "\n",
            "    X   Y\n",
            "0  14  39\n",
            "1  -1 -31\n",
            "2  -4  31\n",
            "3  -4  -1\n",
            "4  18  19\n",
            "Correlation between points (X,Y):  0.4519060578042859\n"
          ]
        }
      ]
    }
  ]
}